{
 "cells": [
  {
   "cell_type": "markdown",
   "id": "55dfc8d8-5f6b-4f52-81d8-77669187122b",
   "metadata": {},
   "source": [
    "# Pandas Profiling\n",
    "* Comandos"
   ]
  },
  {
   "cell_type": "code",
   "execution_count": 19,
   "id": "493742e9-9d2a-431d-9d1c-ca88b2ea0874",
   "metadata": {},
   "outputs": [],
   "source": [
    "import pandas as pd \n",
    "import pandas_profiling \n",
    "from pandas_profiling import ProfileReport "
   ]
  },
  {
   "cell_type": "code",
   "execution_count": 22,
   "id": "d6d86880-860d-4055-ab8d-21173402ab2d",
   "metadata": {},
   "outputs": [],
   "source": [
    "arquivo_file = './kc_house_data.csv'"
   ]
  },
  {
   "cell_type": "code",
   "execution_count": 43,
   "id": "a1431b97-8304-4418-84f5-e74bb102ab90",
   "metadata": {},
   "outputs": [],
   "source": [
    "df = pd.read_csv(arquivo_file, sep=',', header=0)"
   ]
  },
  {
   "cell_type": "code",
   "execution_count": 47,
   "id": "b7277f70-3afa-4c79-a333-b4ce82ba0e19",
   "metadata": {},
   "outputs": [
    {
     "ename": "ValidationError",
     "evalue": "1 validation error for Settings\ncheck_correlation\n  extra fields not permitted (type=value_error.extra)",
     "output_type": "error",
     "traceback": [
      "\u001b[1;31m---------------------------------------------------------------------------\u001b[0m",
      "\u001b[1;31mValidationError\u001b[0m                           Traceback (most recent call last)",
      "Input \u001b[1;32mIn [47]\u001b[0m, in \u001b[0;36m<cell line: 1>\u001b[1;34m()\u001b[0m\n\u001b[1;32m----> 1\u001b[0m \u001b[43mpandas_profiling\u001b[49m\u001b[38;5;241;43m.\u001b[39;49m\u001b[43mProfileReport\u001b[49m\u001b[43m(\u001b[49m\u001b[43mdf\u001b[49m\u001b[43m,\u001b[49m\u001b[43m \u001b[49m\u001b[43mcheck_correlation\u001b[49m\u001b[38;5;241;43m=\u001b[39;49m\u001b[38;5;28;43;01mFalse\u001b[39;49;00m\u001b[43m)\u001b[49m\n",
      "File \u001b[1;32m~\\AppData\\Local\\Programs\\Python\\Python310\\lib\\site-packages\\pandas_profiling\\profile_report.py:105\u001b[0m, in \u001b[0;36mProfileReport.__init__\u001b[1;34m(self, df, minimal, explorative, sensitive, dark_mode, orange_mode, sample, config_file, lazy, typeset, summarizer, config, **kwargs)\u001b[0m\n\u001b[0;32m    103\u001b[0m     report_config \u001b[38;5;241m=\u001b[39m report_config\u001b[38;5;241m.\u001b[39mupdate(Config\u001b[38;5;241m.\u001b[39mget_arg_groups(\u001b[38;5;124m\"\u001b[39m\u001b[38;5;124morange_mode\u001b[39m\u001b[38;5;124m\"\u001b[39m))\n\u001b[0;32m    104\u001b[0m \u001b[38;5;28;01mif\u001b[39;00m \u001b[38;5;28mlen\u001b[39m(kwargs) \u001b[38;5;241m>\u001b[39m \u001b[38;5;241m0\u001b[39m:\n\u001b[1;32m--> 105\u001b[0m     report_config \u001b[38;5;241m=\u001b[39m \u001b[43mreport_config\u001b[49m\u001b[38;5;241;43m.\u001b[39;49m\u001b[43mupdate\u001b[49m\u001b[43m(\u001b[49m\u001b[43mConfig\u001b[49m\u001b[38;5;241;43m.\u001b[39;49m\u001b[43mshorthands\u001b[49m\u001b[43m(\u001b[49m\u001b[43mkwargs\u001b[49m\u001b[43m)\u001b[49m\u001b[43m)\u001b[49m\n\u001b[0;32m    107\u001b[0m \u001b[38;5;28mself\u001b[39m\u001b[38;5;241m.\u001b[39mdf \u001b[38;5;241m=\u001b[39m df\n\u001b[0;32m    108\u001b[0m \u001b[38;5;28mself\u001b[39m\u001b[38;5;241m.\u001b[39mconfig \u001b[38;5;241m=\u001b[39m report_config\n",
      "File \u001b[1;32m~\\AppData\\Local\\Programs\\Python\\Python310\\lib\\site-packages\\pandas_profiling\\config.py:309\u001b[0m, in \u001b[0;36mSettings.update\u001b[1;34m(self, updates)\u001b[0m\n\u001b[0;32m    307\u001b[0m \u001b[38;5;28;01mdef\u001b[39;00m \u001b[38;5;21mupdate\u001b[39m(\u001b[38;5;28mself\u001b[39m, updates: \u001b[38;5;28mdict\u001b[39m) \u001b[38;5;241m-\u001b[39m\u001b[38;5;241m>\u001b[39m \u001b[38;5;124m\"\u001b[39m\u001b[38;5;124mSettings\u001b[39m\u001b[38;5;124m\"\u001b[39m:\n\u001b[0;32m    308\u001b[0m     update \u001b[38;5;241m=\u001b[39m _merge_dictionaries(\u001b[38;5;28mself\u001b[39m\u001b[38;5;241m.\u001b[39mdict(), updates)\n\u001b[1;32m--> 309\u001b[0m     \u001b[38;5;28;01mreturn\u001b[39;00m \u001b[38;5;28;43mself\u001b[39;49m\u001b[38;5;241;43m.\u001b[39;49m\u001b[43mparse_obj\u001b[49m\u001b[43m(\u001b[49m\u001b[38;5;28;43mself\u001b[39;49m\u001b[38;5;241;43m.\u001b[39;49m\u001b[43mcopy\u001b[49m\u001b[43m(\u001b[49m\u001b[43mupdate\u001b[49m\u001b[38;5;241;43m=\u001b[39;49m\u001b[43mupdate\u001b[49m\u001b[43m)\u001b[49m\u001b[43m)\u001b[49m\n",
      "File \u001b[1;32m~\\AppData\\Local\\Programs\\Python\\Python310\\lib\\site-packages\\pydantic\\main.py:521\u001b[0m, in \u001b[0;36mpydantic.main.BaseModel.parse_obj\u001b[1;34m()\u001b[0m\n",
      "File \u001b[1;32m~\\AppData\\Local\\Programs\\Python\\Python310\\lib\\site-packages\\pydantic\\env_settings.py:38\u001b[0m, in \u001b[0;36mpydantic.env_settings.BaseSettings.__init__\u001b[1;34m()\u001b[0m\n",
      "File \u001b[1;32m~\\AppData\\Local\\Programs\\Python\\Python310\\lib\\site-packages\\pydantic\\main.py:341\u001b[0m, in \u001b[0;36mpydantic.main.BaseModel.__init__\u001b[1;34m()\u001b[0m\n",
      "\u001b[1;31mValidationError\u001b[0m: 1 validation error for Settings\ncheck_correlation\n  extra fields not permitted (type=value_error.extra)"
     ]
    }
   ],
   "source": [
    "pandas_profiling.ProfileReport(df, title=\"DataFrame\", check_correlation=False)"
   ]
  },
  {
   "cell_type": "code",
   "execution_count": null,
   "id": "e9fb70aa-f73b-42ed-9399-bd727febf735",
   "metadata": {},
   "outputs": [],
   "source": []
  }
 ],
 "metadata": {
  "kernelspec": {
   "display_name": "Python 3 (ipykernel)",
   "language": "python",
   "name": "python3"
  },
  "language_info": {
   "codemirror_mode": {
    "name": "ipython",
    "version": 3
   },
   "file_extension": ".py",
   "mimetype": "text/x-python",
   "name": "python",
   "nbconvert_exporter": "python",
   "pygments_lexer": "ipython3",
   "version": "3.10.4"
  }
 },
 "nbformat": 4,
 "nbformat_minor": 5
}

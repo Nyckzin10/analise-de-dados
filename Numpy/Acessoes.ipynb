{
 "cells": [
  {
   "cell_type": "code",
   "execution_count": 1,
   "id": "5a98290b-558d-4d7c-9c40-148c4d71f26a",
   "metadata": {},
   "outputs": [],
   "source": [
    "import numpy as np "
   ]
  },
  {
   "cell_type": "code",
   "execution_count": 3,
   "id": "3c42b0fc-eeef-472c-b288-8f72d87aecc0",
   "metadata": {},
   "outputs": [],
   "source": [
    "my_array = np.random.random([2,10])"
   ]
  },
  {
   "cell_type": "code",
   "execution_count": 4,
   "id": "01c5cbdb-73ef-41ce-9ffe-c47c9379eec0",
   "metadata": {},
   "outputs": [
    {
     "data": {
      "text/plain": [
       "array([[0.43248177, 0.5482987 , 0.96809611, 0.07878943, 0.2498502 ,\n",
       "        0.10934106, 0.08891614, 0.47475664, 0.58437709, 0.42829675],\n",
       "       [0.20439749, 0.43371395, 0.61100849, 0.06719501, 0.34587596,\n",
       "        0.85505636, 0.29262728, 0.34253282, 0.9750701 , 0.13609515]])"
      ]
     },
     "execution_count": 4,
     "metadata": {},
     "output_type": "execute_result"
    }
   ],
   "source": [
    "my_array"
   ]
  },
  {
   "cell_type": "code",
   "execution_count": 5,
   "id": "75e69d68-21da-410a-93e8-bbd1bfb6f0e7",
   "metadata": {},
   "outputs": [
    {
     "data": {
      "text/plain": [
       "array([0.43248177, 0.5482987 , 0.96809611, 0.07878943, 0.2498502 ,\n",
       "       0.10934106, 0.08891614, 0.47475664, 0.58437709, 0.42829675])"
      ]
     },
     "execution_count": 5,
     "metadata": {},
     "output_type": "execute_result"
    }
   ],
   "source": [
    "my_array[0]"
   ]
  },
  {
   "cell_type": "code",
   "execution_count": 6,
   "id": "eb544b36-7ef8-4149-9135-84bf6a99af13",
   "metadata": {},
   "outputs": [
    {
     "data": {
      "text/plain": [
       "0.5482987020278853"
      ]
     },
     "execution_count": 6,
     "metadata": {},
     "output_type": "execute_result"
    }
   ],
   "source": [
    "my_array[0][1]"
   ]
  },
  {
   "cell_type": "code",
   "execution_count": 7,
   "id": "51455976-276d-4687-9918-19d730510070",
   "metadata": {},
   "outputs": [
    {
     "data": {
      "text/plain": [
       "0.4337139519310028"
      ]
     },
     "execution_count": 7,
     "metadata": {},
     "output_type": "execute_result"
    }
   ],
   "source": [
    "my_array[1][1]"
   ]
  },
  {
   "cell_type": "code",
   "execution_count": 8,
   "id": "3aafa35c-321a-4f77-84b4-28cbe3ad30eb",
   "metadata": {},
   "outputs": [
    {
     "data": {
      "text/plain": [
       "array([0.5482987 , 0.43371395])"
      ]
     },
     "execution_count": 8,
     "metadata": {},
     "output_type": "execute_result"
    }
   ],
   "source": [
    "my_array[:3,1]"
   ]
  },
  {
   "cell_type": "code",
   "execution_count": 9,
   "id": "d0c05dcd-8f95-4742-8381-dfe2521b0764",
   "metadata": {},
   "outputs": [
    {
     "data": {
      "text/plain": [
       "array([0.5482987 , 0.43371395])"
      ]
     },
     "execution_count": 9,
     "metadata": {},
     "output_type": "execute_result"
    }
   ],
   "source": [
    "my_array[:,1]"
   ]
  },
  {
   "cell_type": "code",
   "execution_count": null,
   "id": "60079250-be86-4415-af68-78888cc8f86b",
   "metadata": {},
   "outputs": [],
   "source": []
  }
 ],
 "metadata": {
  "kernelspec": {
   "display_name": "Python 3 (ipykernel)",
   "language": "python",
   "name": "python3"
  },
  "language_info": {
   "codemirror_mode": {
    "name": "ipython",
    "version": 3
   },
   "file_extension": ".py",
   "mimetype": "text/x-python",
   "name": "python",
   "nbconvert_exporter": "python",
   "pygments_lexer": "ipython3",
   "version": "3.10.4"
  }
 },
 "nbformat": 4,
 "nbformat_minor": 5
}

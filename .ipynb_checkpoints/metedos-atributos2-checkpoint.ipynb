{
 "cells": [
  {
   "cell_type": "code",
   "execution_count": 2,
   "metadata": {
    "id": "--0RZiIo5lyb"
   },
   "outputs": [],
   "source": [
    "import numpy as np \n",
    "import random "
   ]
  },
  {
   "cell_type": "code",
   "execution_count": 3,
   "metadata": {
    "id": "ovQp-Cus5wF4"
   },
   "outputs": [],
   "source": [
    "tree = np.random.random((5,3))"
   ]
  },
  {
   "cell_type": "code",
   "execution_count": 4,
   "metadata": {
    "colab": {
     "base_uri": "https://localhost:8080/"
    },
    "id": "qPLm4Umu59MT",
    "outputId": "fcb54864-3f02-47cb-fe18-1b918f1506b9"
   },
   "outputs": [
    {
     "data": {
      "text/plain": [
       "(5, 3)"
      ]
     },
     "execution_count": 4,
     "metadata": {},
     "output_type": "execute_result"
    }
   ],
   "source": [
    "# comando shape é para monstra quantas linhas e colunas tem na array\n",
    "tree.shape"
   ]
  },
  {
   "cell_type": "code",
   "execution_count": 5,
   "metadata": {
    "colab": {
     "base_uri": "https://localhost:8080/"
    },
    "id": "hA-BNRGY6FbF",
    "outputId": "9f3350a7-85f0-46cf-fd68-f25b6829e5e3"
   },
   "outputs": [
    {
     "data": {
      "text/plain": [
       "array([[0.41456933, 0.71852136, 0.14250724],\n",
       "       [0.87966334, 0.67385593, 0.43916988],\n",
       "       [0.03470559, 0.43593812, 0.4305243 ],\n",
       "       [0.93477135, 0.33877672, 0.4102715 ],\n",
       "       [0.78407896, 0.93184645, 0.34245314]])"
      ]
     },
     "execution_count": 5,
     "metadata": {},
     "output_type": "execute_result"
    }
   ],
   "source": [
    "tree"
   ]
  },
  {
   "cell_type": "code",
   "execution_count": 6,
   "metadata": {
    "colab": {
     "base_uri": "https://localhost:8080/"
    },
    "id": "lQiRxP3q6HXB",
    "outputId": "36a721a0-952e-44dc-ca22-bc4671f6fce8"
   },
   "outputs": [
    {
     "data": {
      "text/plain": [
       "array([[0.41456933, 0.71852136, 0.14250724, 0.87966334, 0.67385593],\n",
       "       [0.43916988, 0.03470559, 0.43593812, 0.4305243 , 0.93477135],\n",
       "       [0.33877672, 0.4102715 , 0.78407896, 0.93184645, 0.34245314]])"
      ]
     },
     "execution_count": 6,
     "metadata": {},
     "output_type": "execute_result"
    }
   ],
   "source": [
    "tree.reshape(3,5)"
   ]
  },
  {
   "cell_type": "code",
   "execution_count": 7,
   "metadata": {
    "colab": {
     "base_uri": "https://localhost:8080/"
    },
    "id": "UA2v57VR6ODs",
    "outputId": "2a059e42-94f2-4106-e446-7347a3a1ff8e"
   },
   "outputs": [
    {
     "data": {
      "text/plain": [
       "array([0.41456933, 0.71852136, 0.14250724, 0.87966334, 0.67385593,\n",
       "       0.43916988, 0.03470559, 0.43593812, 0.4305243 , 0.93477135,\n",
       "       0.33877672, 0.4102715 , 0.78407896, 0.93184645, 0.34245314])"
      ]
     },
     "execution_count": 7,
     "metadata": {},
     "output_type": "execute_result"
    }
   ],
   "source": [
    "tree.reshape(-1) "
   ]
  },
  {
   "cell_type": "code",
   "execution_count": 8,
   "metadata": {
    "colab": {
     "base_uri": "https://localhost:8080/"
    },
    "id": "i4kBzMKu6_cH",
    "outputId": "8e751600-a420-4b77-b346-ffdd14a1d970"
   },
   "outputs": [
    {
     "data": {
      "text/plain": [
       "(5, 3)"
      ]
     },
     "execution_count": 8,
     "metadata": {},
     "output_type": "execute_result"
    }
   ],
   "source": [
    "tree.shape"
   ]
  },
  {
   "cell_type": "code",
   "execution_count": 15,
   "metadata": {
    "colab": {
     "base_uri": "https://localhost:8080/",
     "height": 200
    },
    "id": "aLPS8CQN7ejK",
    "outputId": "3a4e3b33-1059-4378-b898-c67313499315"
   },
   "outputs": [],
   "source": [
    "np.savetxt('aula_numpy.txt', tree, newline=',')"
   ]
  },
  {
   "cell_type": "code",
   "execution_count": null,
   "metadata": {},
   "outputs": [],
   "source": []
  }
 ],
 "metadata": {
  "colab": {
   "collapsed_sections": [],
   "name": "Numpy3.ipynb",
   "provenance": []
  },
  "kernelspec": {
   "display_name": "Python 3 (ipykernel)",
   "language": "python",
   "name": "python3"
  },
  "language_info": {
   "codemirror_mode": {
    "name": "ipython",
    "version": 3
   },
   "file_extension": ".py",
   "mimetype": "text/x-python",
   "name": "python",
   "nbconvert_exporter": "python",
   "pygments_lexer": "ipython3",
   "version": "3.10.4"
  }
 },
 "nbformat": 4,
 "nbformat_minor": 4
}
